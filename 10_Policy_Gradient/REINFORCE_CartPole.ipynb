{
  "cells": [
    {
      "cell_type": "code",
      "execution_count": 11,
      "metadata": {
        "id": "cP5t6U7-nYoc"
      },
      "outputs": [],
      "source": [
        "%colors nocolor \n",
        "from pyvirtualdisplay import Display\n",
        "Display(visible=False, size=(1400, 900)).start()\n",
        "\n",
        "import copy\n",
        "import torch\n",
        "import random\n",
        "import gym\n",
        "import matplotlib\n",
        "\n",
        "import numpy as np\n",
        "import matplotlib.pyplot as plt\n",
        "\n",
        "import torch.nn.functional as F\n",
        "\n",
        "from collections import deque, namedtuple\n",
        "from IPython.display import HTML\n",
        "from base64 import b64encode\n",
        "\n",
        "from torch import nn\n",
        "from torch.utils.data import DataLoader\n",
        "from torch.utils.data.dataset import IterableDataset\n",
        "from torch.optim import AdamW\n",
        "\n",
        "from pytorch_lightning import LightningModule, Trainer\n",
        "\n",
        "from gym.wrappers import RecordVideo, RecordEpisodeStatistics, \\\n",
        "  NormalizeObservation, NormalizeReward\n",
        "\n",
        "\n",
        "device = 'cuda:0' if torch.cuda.is_available() else 'cpu'\n",
        "num_gpus = torch.cuda.device_count()\n",
        "\n",
        "def plot_policy(policy):\n",
        "  pos = np.linspace(-4.8, 4.8, 100)\n",
        "  vel = np.random.random(size=(10000, 1)) * 0.1\n",
        "  ang = np.linspace(-0.418, 0.418, 100)\n",
        "  ang_vel = np.random.random(size=(10000, 1)) * 0.1\n",
        "\n",
        "  g1, g2 = np.meshgrid(pos, ang)\n",
        "  grid = np.stack((g1,g2), axis=-1)\n",
        "  grid = grid.reshape(-1, 2)\n",
        "  grid = np.hstack((grid, vel, ang_vel))\n",
        "\n",
        "  probs = policy(grid).detach().numpy()\n",
        "  probs_left = probs[:, 0]\n",
        "\n",
        "  probs_left = probs_left.reshape(100, 100)\n",
        "  probs_left = np.flip(probs_left, axis=1)\n",
        "\n",
        "  plt.figure(figsize=(8, 8))\n",
        "  plt.imshow(probs_left, cmap='coolwarm')\n",
        "  plt.colorbar()\n",
        "  plt.clim(0, 1)\n",
        "  plt.title(\"P(left | s)\", size=20)\n",
        "  plt.xlabel(\"Cart Position\", size=14)\n",
        "  plt.ylabel(\"Pole angle\", size=14)\n",
        "  plt.xticks(ticks=[0, 50, 100], labels=['-4.8', '0', '4.8'])\n",
        "  plt.yticks(ticks=[100, 50, 0], labels=['-0.418', '0', '0.418'])\n",
        "\n",
        "\n",
        "def test_env(env_name, policy, obs_rms):\n",
        "  env = gym.make(env_name)\n",
        "  env = RecordVideo(env, 'videos', episode_trigger=lambda e: True)\n",
        "  # env = NormalizeObservation(env)\n",
        "  env.obs_rms = obs_rms\n",
        "\n",
        "  for episode in range(10):\n",
        "    done = False\n",
        "    obs = env.reset()\n",
        "    while not done:\n",
        "      action = policy(obs).multinomial(1).cpu().item()\n",
        "      obs, _, done, _ = env.step(action)\n",
        "  del env\n",
        "\n",
        "\n",
        "def display_video(episode=0):\n",
        "  video_file = open(f'videos/rl-video-episode-{episode}.mp4', \"r+b\").read()\n",
        "  video_url = f\"data:video/mp4;base64,{b64encode(video_file).decode()}\"\n",
        "  return HTML(f\"<video width=600 controls><source src='{video_url}'></video>\")"
      ]
    },
    {
      "cell_type": "code",
      "execution_count": 2,
      "metadata": {},
      "outputs": [],
      "source": [
        "class GradientPolicy(nn.Module):\n",
        "\n",
        "    def __init__(self, in_features, n_actions, hidden_size=128):\n",
        "        super().__init__()\n",
        "        self.fc1 = nn.Linear(in_features, hidden_size)\n",
        "        self.fc2 = nn.Linear(hidden_size, hidden_size)\n",
        "        self.fc3 = nn.Linear(hidden_size, n_actions)\n",
        "\n",
        "    def forward(self, state):\n",
        "        x = torch.tensor(state).float().to(device) # create a tensor of the state and send it to the right device\n",
        "        x = F.relu(self.fc1(x))\n",
        "        x = F.relu(self.fc2(x))\n",
        "        x = F.softmax(self.fc3(x), dim=-1) # apply softmax to the final dimension\n",
        "        return x # vector of probabilities\n",
        "    \n",
        "def create_envs(env_name, num_envs):\n",
        "    env = gym.vector.make(env_name, num_envs)\n",
        "    env = RecordEpisodeStatistics(env)\n",
        "    env = NormalizeObservation(env)\n",
        "    env = NormalizeReward(env)\n",
        "    return env        \n",
        "\n",
        "class RLDataset(IterableDataset):\n",
        "    def __init__(self, env, policy, steps_per_epoch, gamma):\n",
        "        super().__init__()\n",
        "        self.env = env\n",
        "        self.policy = policy\n",
        "        self.gamma = gamma\n",
        "        self.steps_per_epoch = steps_per_epoch\n",
        "        self.obs = env.reset()\n",
        "\n",
        "    @torch.no_grad()\n",
        "    def __iter__(self):\n",
        "        transitions = []\n",
        "        for step in range(self.steps_per_epoch):\n",
        "            action = self.policy(self.obs) # [[p1, p2, p3], [p1, p2, p3]]\n",
        "            action = action.multinomial(1 ).cpu().numpy() # [[a1], [a2]]\n",
        "            next_obs, reward, done = self.env.step(action.flatten()) # [a1, a2]\n",
        "            transitions.append([self.obs, action, reward, done])\n",
        "            self.obs = next_obs\n",
        "\n",
        "        obs_b, action_b, reward_b, done_b = map(np.stack, zip(*transitions)) \n",
        "        running_return = np.zeros(self.env.num_envs, dtype=np.float32)\n",
        "        return_b = np.zeros_like(reward_b)\n",
        "        for row in range(self.steps_per_epoch-1, -1, -1):\n",
        "            running_return = reward_b[row] + (1-done_b[row]) * self.gamma * running_return\n",
        "            return_b[row] = running_return\n",
        "\n",
        "        # combine all the environments into 1 single list\n",
        "        num_samples = self.env.num_envs * self.steps_per_epoch\n",
        "        obs_b  = obs_b.reshape(num_samples, -1)\n",
        "        action_b = action_b.reshape(num_samples, -1)\n",
        "        return_b = return_b.reshape(num_samples, -1)\n",
        "\n",
        "        # shuffle transitions\n",
        "        idx = list(range(num_samples))\n",
        "        random.shuffle(idx)\n",
        "\n",
        "        # return one by one the training items\n",
        "        for i in idx:\n",
        "            yield obs_b[i], action_b[i], return_b[i]"
      ]
    },
    {
      "attachments": {},
      "cell_type": "markdown",
      "metadata": {},
      "source": [
        "REINFORCE Algorithm"
      ]
    },
    {
      "cell_type": "code",
      "execution_count": 3,
      "metadata": {},
      "outputs": [],
      "source": [
        "class REINFORCE(LightningModule):\n",
        "    def __init__(self, env_name, num_envs=8, samples_per_epoch=1000, batch_size=1024,\n",
        "                 hidden_size=64, policy_lr=.001, gamma=.99, entropy_coef=.001, optim=AdamW):\n",
        "        super().__init__()\n",
        "\n",
        "        self.env = create_envs(env_name, num_envs)\n",
        "        obs_size = self.env.single_observation_space.shape[0]\n",
        "        n_actions = self.env.single_action_space.n\n",
        "\n",
        "        self.policy = GradientPolicy(obs_size, n_actions, hidden_size)\n",
        "        self.dataset = RLDataset(self.env, self.policy, samples_per_epoch, gamma)\n",
        "\n",
        "        self.save_hyperparameters()\n",
        "\n",
        "    def configure_optimizers(self):\n",
        "        return self.hparams.optim(self.policy.parameters(), lr=self.hparams.policy_lr)\n",
        "    \n",
        "    def train_dataloader(self):\n",
        "        return DataLoader(dataset=self.dataset, batch_size=self.hparams.batch_size)\n",
        "    \n",
        "    def training_step(self, batch, batch_index):\n",
        "        obs_b, action_b, return_b = batch # batch is from dataloader\n",
        "\n",
        "        probs_b = self.policy(obs_b)\n",
        "        log_probs_b = torch.log(probs_b + 1e-6)\n",
        "        action_log_prob_b = log_probs_b.gather(1, action_b)\n",
        "\n",
        "        entropy = - torch.sum(probs_b * log_probs_b, dim=-1, keepdim=True)\n",
        "\n",
        "        pg_loss = - action_log_prob_b * return_b # why no alpha???\n",
        "        total_loss = torch.mean(pg_loss - self.hparams.entropy_coef * entropy)\n",
        "\n",
        "        self.log(\"episode/PG Loss\", pg_loss.mean())\n",
        "        self.log(\"episode/Entropy\", entropy.mean())\n",
        "\n",
        "        return total_loss\n",
        "    \n",
        "    def on_train_epoch_end(self, *args, **kwargs):\n",
        "        self.log(\"episode/Return\", self.env.return_queue[-1])\n",
        "\n"
      ]
    },
    {
      "attachments": {},
      "cell_type": "markdown",
      "metadata": {},
      "source": [
        "Train the policy"
      ]
    },
    {
      "cell_type": "code",
      "execution_count": 15,
      "metadata": {},
      "outputs": [
        {
          "name": "stderr",
          "output_type": "stream",
          "text": [
            "GPU available: False, used: False\n",
            "TPU available: False, using: 0 TPU cores\n",
            "IPU available: False, using: 0 IPUs\n",
            "HPU available: False, using: 0 HPUs\n",
            "\n",
            "  | Name   | Type           | Params\n",
            "------------------------------------------\n",
            "0 | policy | GradientPolicy | 4.6 K \n",
            "------------------------------------------\n",
            "4.6 K     Trainable params\n",
            "0         Non-trainable params\n",
            "4.6 K     Total params\n",
            "0.018     Total estimated model params size (MB)\n"
          ]
        },
        {
          "data": {
            "application/vnd.jupyter.widget-view+json": {
              "model_id": "f20c1ce06f5d453eb0e625197c972f06",
              "version_major": 2,
              "version_minor": 0
            },
            "text/plain": [
              "Training: 0it [00:00, ?it/s]"
            ]
          },
          "metadata": {},
          "output_type": "display_data"
        },
        {
          "name": "stderr",
          "output_type": "stream",
          "text": [
            "/tmp/ipykernel_265886/795761382.py:10: UserWarning: To copy construct from a tensor, it is recommended to use sourceTensor.clone().detach() or sourceTensor.clone().detach().requires_grad_(True), rather than torch.tensor(sourceTensor).\n",
            "  x = torch.tensor(state).float().to(device) # create a tensor of the state and send it to the right device\n",
            "`Trainer.fit` stopped: `max_epochs=500` reached.\n"
          ]
        }
      ],
      "source": [
        "algo = REINFORCE('CartPole-v1')\n",
        "\n",
        "trainer = Trainer(max_epochs=500)\n",
        "\n",
        "trainer.fit(algo)"
      ]
    },
    {
      "attachments": {},
      "cell_type": "markdown",
      "metadata": {},
      "source": [
        "Train for 200 more epochs ;)"
      ]
    },
    {
      "cell_type": "code",
      "execution_count": 26,
      "metadata": {},
      "outputs": [
        {
          "name": "stderr",
          "output_type": "stream",
          "text": [
            "GPU available: False, used: False\n",
            "TPU available: False, using: 0 TPU cores\n",
            "IPU available: False, using: 0 IPUs\n",
            "HPU available: False, using: 0 HPUs\n",
            "\n",
            "  | Name   | Type           | Params\n",
            "------------------------------------------\n",
            "0 | policy | GradientPolicy | 4.6 K \n",
            "------------------------------------------\n",
            "4.6 K     Trainable params\n",
            "0         Non-trainable params\n",
            "4.6 K     Total params\n",
            "0.018     Total estimated model params size (MB)\n"
          ]
        },
        {
          "data": {
            "application/vnd.jupyter.widget-view+json": {
              "model_id": "4fb5d8a672e14760b0a667e3b8ef39e1",
              "version_major": 2,
              "version_minor": 0
            },
            "text/plain": [
              "Training: 0it [00:00, ?it/s]"
            ]
          },
          "metadata": {},
          "output_type": "display_data"
        },
        {
          "name": "stderr",
          "output_type": "stream",
          "text": [
            "/tmp/ipykernel_265886/795761382.py:10: UserWarning: To copy construct from a tensor, it is recommended to use sourceTensor.clone().detach() or sourceTensor.clone().detach().requires_grad_(True), rather than torch.tensor(sourceTensor).\n",
            "  x = torch.tensor(state).float().to(device) # create a tensor of the state and send it to the right device\n",
            "`Trainer.fit` stopped: `max_epochs=200` reached.\n"
          ]
        }
      ],
      "source": [
        "trainer = Trainer(max_epochs=200)\n",
        "trainer.fit(algo)"
      ]
    },
    {
      "cell_type": "code",
      "execution_count": 27,
      "metadata": {},
      "outputs": [
        {
          "name": "stderr",
          "output_type": "stream",
          "text": [
            "/home/weiminn/Documents/reinforcement/venv/lib/python3.8/site-packages/gym/wrappers/record_video.py:41: UserWarning: \u001b[33mWARN: Overwriting existing videos at /home/weiminn/Documents/reinforcement/10_Policy_Gradient/videos folder (try specifying a different `video_folder` for the `RecordVideo` wrapper if this is not desired)\u001b[0m\n",
            "  logger.warn(\n"
          ]
        }
      ],
      "source": [
        "test_env('CartPole-v1', algo.policy, algo.env.obs_rms)"
      ]
    },
    {
      "cell_type": "code",
      "execution_count": 31,
      "metadata": {},
      "outputs": [
        {
          "data": {
            "text/html": [
              "<video width=600 controls><source src='data:video/mp4;base64,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'></video>"
            ],
            "text/plain": [
              "<IPython.core.display.HTML object>"
            ]
          },
          "execution_count": 31,
          "metadata": {},
          "output_type": "execute_result"
        }
      ],
      "source": [
        "display_video(episode=8)"
      ]
    },
    {
      "cell_type": "code",
      "execution_count": 32,
      "metadata": {},
      "outputs": [
        {
          "data": {
            "image/png": "[encoded data removed]",
            "text/plain": [
              "<Figure size 800x800 with 2 Axes>"
            ]
          },
          "metadata": {},
          "output_type": "display_data"
        }
      ],
      "source": [
        "plot_policy(algo.policy)"
      ]
    }
  ],
  "metadata": {
    "colab": {
      "collapsed_sections": [],
      "name": "1_REINFORCE.ipynb",
      "private_outputs": true,
      "provenance": []
    },
    "kernelspec": {
      "display_name": "Python 3",
      "name": "python3"
    },
    "language_info": {
      "codemirror_mode": {
        "name": "ipython",
        "version": 3
      },
      "file_extension": ".py",
      "mimetype": "text/x-python",
      "name": "python",
      "nbconvert_exporter": "python",
      "pygments_lexer": "ipython3",
      "version": "3.8.10"
    }
  },
  "nbformat": 4,
  "nbformat_minor": 0
}

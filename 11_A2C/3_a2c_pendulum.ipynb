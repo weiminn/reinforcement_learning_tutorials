{
  "cells": [
    {
      "attachments": {},
      "cell_type": "markdown",
      "metadata": {
        "id": "TCxxWBZioi0N"
      },
      "source": [
        "# Advantage Actor-Critic\n"
      ]
    },
    {
      "cell_type": "code",
      "execution_count": 19,
      "metadata": {
        "id": "oyQ7ov4M8pYR"
      },
      "outputs": [
        {
          "name": "stdout",
          "output_type": "stream",
          "text": [
            "E: Could not open lock file /var/lib/dpkg/lock-frontend - open (13: Permission denied)\n",
            "E: Unable to acquire the dpkg frontend lock (/var/lib/dpkg/lock-frontend), are you root?\n",
            "Requirement already satisfied: gymnasium==0.26.3 in /home/weiminn/Documents/reinforcement/venv/lib/python3.8/site-packages (0.26.3)\n",
            "Requirement already satisfied: pygame in /home/weiminn/Documents/reinforcement/venv/lib/python3.8/site-packages (2.4.0)\n",
            "Requirement already satisfied: pytorch-lightning==1.6 in /home/weiminn/Documents/reinforcement/venv/lib/python3.8/site-packages (1.6.0)\n",
            "Requirement already satisfied: pyvirtualdisplay in /home/weiminn/Documents/reinforcement/venv/lib/python3.8/site-packages (3.0)\n",
            "Requirement already satisfied: cloudpickle>=1.2.0 in /home/weiminn/Documents/reinforcement/venv/lib/python3.8/site-packages (from gymnasium==0.26.3) (2.2.1)\n",
            "Requirement already satisfied: gymnasium-notices>=0.0.1 in /home/weiminn/Documents/reinforcement/venv/lib/python3.8/site-packages (from gymnasium==0.26.3) (0.0.1)\n",
            "Requirement already satisfied: numpy>=1.18.0 in /home/weiminn/Documents/reinforcement/venv/lib/python3.8/site-packages (from gymnasium==0.26.3) (1.24.3)\n",
            "Requirement already satisfied: importlib-metadata>=4.8.0; python_version < \"3.10\" in /home/weiminn/Documents/reinforcement/venv/lib/python3.8/site-packages (from gymnasium==0.26.3) (6.6.0)\n",
            "Requirement already satisfied: torchmetrics>=0.4.1 in /home/weiminn/Documents/reinforcement/venv/lib/python3.8/site-packages (from pytorch-lightning==1.6) (0.11.4)\n",
            "Requirement already satisfied: pyDeprecate<0.4.0,>=0.3.1 in /home/weiminn/Documents/reinforcement/venv/lib/python3.8/site-packages (from pytorch-lightning==1.6) (0.3.2)\n",
            "Requirement already satisfied: tensorboard>=2.2.0 in /home/weiminn/Documents/reinforcement/venv/lib/python3.8/site-packages (from pytorch-lightning==1.6) (2.13.0)\n",
            "Requirement already satisfied: torch>=1.8.* in /home/weiminn/Documents/reinforcement/venv/lib/python3.8/site-packages (from pytorch-lightning==1.6) (2.0.0+cpu)\n",
            "Requirement already satisfied: tqdm>=4.41.0 in /home/weiminn/Documents/reinforcement/venv/lib/python3.8/site-packages (from pytorch-lightning==1.6) (4.65.0)\n",
            "Requirement already satisfied: PyYAML>=5.4 in /home/weiminn/Documents/reinforcement/venv/lib/python3.8/site-packages (from pytorch-lightning==1.6) (6.0)\n",
            "Requirement already satisfied: fsspec[http]!=2021.06.0,>=2021.05.0 in /home/weiminn/Documents/reinforcement/venv/lib/python3.8/site-packages (from pytorch-lightning==1.6) (2023.4.0)\n",
            "Requirement already satisfied: packaging>=17.0 in /home/weiminn/Documents/reinforcement/venv/lib/python3.8/site-packages (from pytorch-lightning==1.6) (23.1)\n",
            "Requirement already satisfied: typing-extensions>=4.0.0 in /home/weiminn/Documents/reinforcement/venv/lib/python3.8/site-packages (from pytorch-lightning==1.6) (4.5.0)\n",
            "Requirement already satisfied: zipp>=0.5 in /home/weiminn/Documents/reinforcement/venv/lib/python3.8/site-packages (from importlib-metadata>=4.8.0; python_version < \"3.10\"->gymnasium==0.26.3) (3.15.0)\n",
            "Requirement already satisfied: markdown>=2.6.8 in /home/weiminn/Documents/reinforcement/venv/lib/python3.8/site-packages (from tensorboard>=2.2.0->pytorch-lightning==1.6) (3.4.3)\n",
            "Requirement already satisfied: absl-py>=0.4 in /home/weiminn/Documents/reinforcement/venv/lib/python3.8/site-packages (from tensorboard>=2.2.0->pytorch-lightning==1.6) (1.4.0)\n",
            "Requirement already satisfied: google-auth<3,>=1.6.3 in /home/weiminn/Documents/reinforcement/venv/lib/python3.8/site-packages (from tensorboard>=2.2.0->pytorch-lightning==1.6) (2.17.3)\n",
            "Requirement already satisfied: protobuf>=3.19.6 in /home/weiminn/Documents/reinforcement/venv/lib/python3.8/site-packages (from tensorboard>=2.2.0->pytorch-lightning==1.6) (3.20.3)\n",
            "Requirement already satisfied: requests<3,>=2.21.0 in /home/weiminn/Documents/reinforcement/venv/lib/python3.8/site-packages (from tensorboard>=2.2.0->pytorch-lightning==1.6) (2.30.0)\n",
            "Requirement already satisfied: werkzeug>=1.0.1 in /home/weiminn/Documents/reinforcement/venv/lib/python3.8/site-packages (from tensorboard>=2.2.0->pytorch-lightning==1.6) (2.3.3)\n",
            "Requirement already satisfied: grpcio>=1.48.2 in /home/weiminn/Documents/reinforcement/venv/lib/python3.8/site-packages (from tensorboard>=2.2.0->pytorch-lightning==1.6) (1.54.0)\n",
            "Requirement already satisfied: wheel>=0.26 in /home/weiminn/Documents/reinforcement/venv/lib/python3.8/site-packages (from tensorboard>=2.2.0->pytorch-lightning==1.6) (0.40.0)\n",
            "Requirement already satisfied: setuptools>=41.0.0 in /home/weiminn/Documents/reinforcement/venv/lib/python3.8/site-packages (from tensorboard>=2.2.0->pytorch-lightning==1.6) (44.0.0)\n",
            "Requirement already satisfied: tensorboard-data-server<0.8.0,>=0.7.0 in /home/weiminn/Documents/reinforcement/venv/lib/python3.8/site-packages (from tensorboard>=2.2.0->pytorch-lightning==1.6) (0.7.0)\n",
            "Requirement already satisfied: google-auth-oauthlib<1.1,>=0.5 in /home/weiminn/Documents/reinforcement/venv/lib/python3.8/site-packages (from tensorboard>=2.2.0->pytorch-lightning==1.6) (1.0.0)\n",
            "Requirement already satisfied: sympy in /home/weiminn/Documents/reinforcement/venv/lib/python3.8/site-packages (from torch>=1.8.*->pytorch-lightning==1.6) (1.11.1)\n",
            "Requirement already satisfied: networkx in /home/weiminn/Documents/reinforcement/venv/lib/python3.8/site-packages (from torch>=1.8.*->pytorch-lightning==1.6) (3.1)\n",
            "Requirement already satisfied: filelock in /home/weiminn/Documents/reinforcement/venv/lib/python3.8/site-packages (from torch>=1.8.*->pytorch-lightning==1.6) (3.12.0)\n",
            "Requirement already satisfied: jinja2 in /home/weiminn/Documents/reinforcement/venv/lib/python3.8/site-packages (from torch>=1.8.*->pytorch-lightning==1.6) (3.1.2)\n",
            "Requirement already satisfied: aiohttp!=4.0.0a0,!=4.0.0a1; extra == \"http\" in /home/weiminn/Documents/reinforcement/venv/lib/python3.8/site-packages (from fsspec[http]!=2021.06.0,>=2021.05.0->pytorch-lightning==1.6) (3.8.4)\n",
            "Requirement already satisfied: rsa<5,>=3.1.4; python_version >= \"3.6\" in /home/weiminn/Documents/reinforcement/venv/lib/python3.8/site-packages (from google-auth<3,>=1.6.3->tensorboard>=2.2.0->pytorch-lightning==1.6) (4.9)\n",
            "Requirement already satisfied: cachetools<6.0,>=2.0.0 in /home/weiminn/Documents/reinforcement/venv/lib/python3.8/site-packages (from google-auth<3,>=1.6.3->tensorboard>=2.2.0->pytorch-lightning==1.6) (5.3.0)\n",
            "Requirement already satisfied: six>=1.9.0 in /home/weiminn/Documents/reinforcement/venv/lib/python3.8/site-packages (from google-auth<3,>=1.6.3->tensorboard>=2.2.0->pytorch-lightning==1.6) (1.16.0)\n",
            "Requirement already satisfied: pyasn1-modules>=0.2.1 in /home/weiminn/Documents/reinforcement/venv/lib/python3.8/site-packages (from google-auth<3,>=1.6.3->tensorboard>=2.2.0->pytorch-lightning==1.6) (0.3.0)\n",
            "Requirement already satisfied: certifi>=2017.4.17 in /home/weiminn/Documents/reinforcement/venv/lib/python3.8/site-packages (from requests<3,>=2.21.0->tensorboard>=2.2.0->pytorch-lightning==1.6) (2022.12.7)\n",
            "Requirement already satisfied: charset-normalizer<4,>=2 in /home/weiminn/Documents/reinforcement/venv/lib/python3.8/site-packages (from requests<3,>=2.21.0->tensorboard>=2.2.0->pytorch-lightning==1.6) (3.1.0)\n",
            "Requirement already satisfied: urllib3<3,>=1.21.1 in /home/weiminn/Documents/reinforcement/venv/lib/python3.8/site-packages (from requests<3,>=2.21.0->tensorboard>=2.2.0->pytorch-lightning==1.6) (2.0.2)\n",
            "Requirement already satisfied: idna<4,>=2.5 in /home/weiminn/Documents/reinforcement/venv/lib/python3.8/site-packages (from requests<3,>=2.21.0->tensorboard>=2.2.0->pytorch-lightning==1.6) (3.4)\n",
            "Requirement already satisfied: MarkupSafe>=2.1.1 in /home/weiminn/Documents/reinforcement/venv/lib/python3.8/site-packages (from werkzeug>=1.0.1->tensorboard>=2.2.0->pytorch-lightning==1.6) (2.1.2)\n",
            "Requirement already satisfied: requests-oauthlib>=0.7.0 in /home/weiminn/Documents/reinforcement/venv/lib/python3.8/site-packages (from google-auth-oauthlib<1.1,>=0.5->tensorboard>=2.2.0->pytorch-lightning==1.6) (1.3.1)\n",
            "Requirement already satisfied: mpmath>=0.19 in /home/weiminn/Documents/reinforcement/venv/lib/python3.8/site-packages (from sympy->torch>=1.8.*->pytorch-lightning==1.6) (1.3.0)\n",
            "Requirement already satisfied: yarl<2.0,>=1.0 in /home/weiminn/Documents/reinforcement/venv/lib/python3.8/site-packages (from aiohttp!=4.0.0a0,!=4.0.0a1; extra == \"http\"->fsspec[http]!=2021.06.0,>=2021.05.0->pytorch-lightning==1.6) (1.9.2)\n",
            "Requirement already satisfied: attrs>=17.3.0 in /home/weiminn/Documents/reinforcement/venv/lib/python3.8/site-packages (from aiohttp!=4.0.0a0,!=4.0.0a1; extra == \"http\"->fsspec[http]!=2021.06.0,>=2021.05.0->pytorch-lightning==1.6) (23.1.0)\n",
            "Requirement already satisfied: aiosignal>=1.1.2 in /home/weiminn/Documents/reinforcement/venv/lib/python3.8/site-packages (from aiohttp!=4.0.0a0,!=4.0.0a1; extra == \"http\"->fsspec[http]!=2021.06.0,>=2021.05.0->pytorch-lightning==1.6) (1.3.1)\n",
            "Requirement already satisfied: multidict<7.0,>=4.5 in /home/weiminn/Documents/reinforcement/venv/lib/python3.8/site-packages (from aiohttp!=4.0.0a0,!=4.0.0a1; extra == \"http\"->fsspec[http]!=2021.06.0,>=2021.05.0->pytorch-lightning==1.6) (6.0.4)\n",
            "Requirement already satisfied: frozenlist>=1.1.1 in /home/weiminn/Documents/reinforcement/venv/lib/python3.8/site-packages (from aiohttp!=4.0.0a0,!=4.0.0a1; extra == \"http\"->fsspec[http]!=2021.06.0,>=2021.05.0->pytorch-lightning==1.6) (1.3.3)\n",
            "Requirement already satisfied: async-timeout<5.0,>=4.0.0a3 in /home/weiminn/Documents/reinforcement/venv/lib/python3.8/site-packages (from aiohttp!=4.0.0a0,!=4.0.0a1; extra == \"http\"->fsspec[http]!=2021.06.0,>=2021.05.0->pytorch-lightning==1.6) (4.0.2)\n",
            "Requirement already satisfied: pyasn1>=0.1.3 in /home/weiminn/Documents/reinforcement/venv/lib/python3.8/site-packages (from rsa<5,>=3.1.4; python_version >= \"3.6\"->google-auth<3,>=1.6.3->tensorboard>=2.2.0->pytorch-lightning==1.6) (0.5.0)\n",
            "Requirement already satisfied: oauthlib>=3.0.0 in /home/weiminn/Documents/reinforcement/venv/lib/python3.8/site-packages (from requests-oauthlib>=0.7.0->google-auth-oauthlib<1.1,>=0.5->tensorboard>=2.2.0->pytorch-lightning==1.6) (3.2.2)\n"
          ]
        }
      ],
      "source": [
        "!apt-get install -y xvfb\n",
        "\n",
        "!pip install \\\n",
        "  gymnasium==0.26.3 \\\n",
        "  pygame \\\n",
        "  pytorch-lightning==1.6 \\\n",
        "  pyvirtualdisplay"
      ]
    },
    {
      "attachments": {},
      "cell_type": "markdown",
      "metadata": {
        "id": "ZOSJl-X7zvs4"
      },
      "source": [
        "#### Setup virtual display"
      ]
    },
    {
      "cell_type": "code",
      "execution_count": 13,
      "metadata": {
        "id": "B-Z6takfzqGk"
      },
      "outputs": [
        {
          "data": {
            "text/plain": [
              "<Surface(640x480x32 SW)>"
            ]
          },
          "execution_count": 13,
          "metadata": {},
          "output_type": "execute_result"
        }
      ],
      "source": [
        "import os\n",
        "os.environ['SDL_VIDEODRIVER']='dummy'\n",
        "import pygame\n",
        "pygame.display.set_mode((640,480))"
      ]
    },
    {
      "attachments": {},
      "cell_type": "markdown",
      "metadata": {
        "id": "Cz8DLleGz_TF"
      },
      "source": [
        "#### Import the necessary code libraries"
      ]
    },
    {
      "cell_type": "code",
      "execution_count": 14,
      "metadata": {
        "id": "cP5t6U7-nYoc"
      },
      "outputs": [],
      "source": [
        "import copy\n",
        "import torch\n",
        "import random\n",
        "import gym\n",
        "import matplotlib\n",
        "\n",
        "import numpy as np\n",
        "import matplotlib.pyplot as plt\n",
        "\n",
        "import torch.nn.functional as F\n",
        "\n",
        "from collections import deque, namedtuple\n",
        "from IPython.display import HTML\n",
        "from base64 import b64encode\n",
        "\n",
        "from torch import nn\n",
        "from torch.utils.data import DataLoader\n",
        "from torch.utils.data.dataset import IterableDataset\n",
        "from torch.optim import AdamW\n",
        "\n",
        "from torch.distributions import Normal\n",
        "\n",
        "from pytorch_lightning import LightningModule, Trainer\n",
        "\n",
        "from gym.wrappers import RecordVideo, RecordEpisodeStatistics, NormalizeObservation\n",
        "\n",
        "# For visualization\n",
        "from gym.wrappers.monitoring import video_recorder\n",
        "from IPython.display import HTML\n",
        "from IPython import display \n",
        "import glob\n",
        "\n",
        "\n",
        "device = 'cuda:0' if torch.cuda.is_available() else 'cpu'\n",
        "num_gpus = torch.cuda.device_count()"
      ]
    },
    {
      "cell_type": "code",
      "execution_count": 3,
      "metadata": {
        "id": "Z_IrPlU1wwPx"
      },
      "outputs": [],
      "source": [
        "@torch.no_grad()\n",
        "def test_env(env_name, policy, obs_rms, **kwargs):\n",
        "  env = gym.make(env_name, **kwargs)\n",
        "  env = RecordVideo(env, 'videos', episode_trigger=lambda e: True)\n",
        "  env = NormalizeObservation(env)\n",
        "  env.obs_rms = obs_rms\n",
        "  policy = policy.to(device)\n",
        "\n",
        "  for episode in range(10):\n",
        "    done = False\n",
        "    obs = env.reset()\n",
        "    while not done:\n",
        "      loc, scale = policy(obs)\n",
        "      action = torch.normal(loc, scale)\n",
        "      action = action.cpu().numpy()\n",
        "      obs, _, done, _ = env.step(action)\n",
        "  del env\n",
        "\n",
        "\n",
        "def display_video(episode=0):\n",
        "  video_file = open(f'/content/videos/rl-video-episode-{episode}.mp4', \"r+b\").read()\n",
        "  video_url = f\"data:video/mp4;base64,{b64encode(video_file).decode()}\"\n",
        "  return HTML(f\"<video width=600 controls><source src='{video_url}'></video>\")"
      ]
    },
    {
      "attachments": {},
      "cell_type": "markdown",
      "metadata": {
        "id": "bnk0wSWj0hAz"
      },
      "source": [
        "#### Create the policy"
      ]
    },
    {
      "cell_type": "code",
      "execution_count": 3,
      "metadata": {
        "id": "o9a0b9cdnYtT"
      },
      "outputs": [],
      "source": [
        "class GradientPolicy(nn.Module):\n",
        "\n",
        "  def __init__(self, in_features, out_dims, hidden_size=128):\n",
        "    super().__init__()\n",
        "    self.fc1 = nn.Linear(in_features, hidden_size)\n",
        "    self.fc2 = nn.Linear(hidden_size, hidden_size)\n",
        "    self.fc_mu = nn.Linear(hidden_size, out_dims)\n",
        "    self.fc_std = nn.Linear(hidden_size, out_dims)\n",
        "\n",
        "  def forward(self, x):\n",
        "    x = torch.tensor(x).float().to(device)\n",
        "    x = F.relu(self.fc1(x))\n",
        "    x = F.relu(self.fc2(x))\n",
        "    loc = self.fc_mu(x)\n",
        "    loc = torch.tanh(loc) * 2\n",
        "    scale = self.fc_std(x)\n",
        "    scale = F.softplus(scale) + 0.001\n",
        "    return loc, scale"
      ]
    },
    {
      "cell_type": "code",
      "execution_count": 4,
      "metadata": {
        "id": "AD7cI5y1FHUN"
      },
      "outputs": [],
      "source": [
        "class ValueNet(nn.Module):\n",
        "\n",
        "  def __init__(self, in_features, hidden_size=128):\n",
        "    super().__init__()\n",
        "    self.fc1 = nn.Linear(in_features, hidden_size)\n",
        "    self.fc2 = nn.Linear(hidden_size, hidden_size)\n",
        "    self.fc3 = nn.Linear(hidden_size, 1)\n",
        "  \n",
        "  def forward(self, x):\n",
        "    x = torch.tensor(x).float().to(device)\n",
        "    x = F.relu(self.fc1(x))\n",
        "    x = F.relu(self.fc2(x))\n",
        "    x = self.fc3(x)\n",
        "    return x"
      ]
    },
    {
      "attachments": {},
      "cell_type": "markdown",
      "metadata": {
        "id": "0yvDC9qF0oPr"
      },
      "source": [
        "#### Create the environment"
      ]
    },
    {
      "cell_type": "code",
      "execution_count": 5,
      "metadata": {
        "id": "Ry7ECCTdWB5c"
      },
      "outputs": [
        {
          "data": {
            "text/plain": [
              "array([ 0.24134934, -0.9704383 , -0.5410339 ], dtype=float32)"
            ]
          },
          "execution_count": 5,
          "metadata": {},
          "output_type": "execute_result"
        }
      ],
      "source": [
        "env = gym.make(\"Pendulum-v1\")\n",
        "# env = gym.make('MountainCarContinuous-v0')\n",
        "env.reset()"
      ]
    },
    {
      "cell_type": "code",
      "execution_count": 6,
      "metadata": {
        "id": "0Pbxh84fYK_b"
      },
      "outputs": [
        {
          "data": {
            "text/plain": [
              "<matplotlib.image.AxesImage at 0x7f78a92da760>"
            ]
          },
          "execution_count": 6,
          "metadata": {},
          "output_type": "execute_result"
        },
        {
          "data": {
            "image/png": "[encoded data removed]",
            "text/plain": [
              "<Figure size 640x480 with 1 Axes>"
            ]
          },
          "metadata": {},
          "output_type": "display_data"
        }
      ],
      "source": [
        "import matplotlib.pyplot as plt\n",
        "plt.imshow(env.render(mode=\"rgb_array\"))"
      ]
    },
    {
      "cell_type": "code",
      "execution_count": 7,
      "metadata": {
        "id": "kjkGYTxUYLB0"
      },
      "outputs": [],
      "source": [
        "env = gym.vector.make(\"Pendulum-v1\", num_envs=2)"
      ]
    },
    {
      "cell_type": "code",
      "execution_count": 8,
      "metadata": {
        "id": "jD_2PVe_gS2D"
      },
      "outputs": [
        {
          "data": {
            "text/plain": [
              "array([[-0.36552015,  0.9308034 ,  0.01482055],\n",
              "       [ 0.9996916 , -0.02483243,  0.493078  ]], dtype=float32)"
            ]
          },
          "execution_count": 8,
          "metadata": {},
          "output_type": "execute_result"
        }
      ],
      "source": [
        "env.reset()"
      ]
    },
    {
      "cell_type": "code",
      "execution_count": 9,
      "metadata": {
        "id": "eh7UG1_LgT8j"
      },
      "outputs": [
        {
          "data": {
            "text/plain": [
              "(Box([[-1. -1. -8.]\n",
              "  [-1. -1. -8.]], [[1. 1. 8.]\n",
              "  [1. 1. 8.]], (2, 3), float32),\n",
              " Tuple(Box([-2.], [2.], (1,), float32), Box([-2.], [2.], (1,), float32)))"
            ]
          },
          "execution_count": 9,
          "metadata": {},
          "output_type": "execute_result"
        }
      ],
      "source": [
        "env.observation_space, env.action_space"
      ]
    },
    {
      "cell_type": "code",
      "execution_count": 10,
      "metadata": {
        "id": "7FGmxE1Gh12i"
      },
      "outputs": [],
      "source": [
        "next_obs, rewards, dones, infos = env.step(env.action_space.sample())"
      ]
    },
    {
      "cell_type": "code",
      "execution_count": 11,
      "metadata": {
        "id": "nNixlpRxh15T"
      },
      "outputs": [
        {
          "data": {
            "text/plain": [
              "({}, {})"
            ]
          },
          "execution_count": 11,
          "metadata": {},
          "output_type": "execute_result"
        }
      ],
      "source": [
        "infos"
      ]
    },
    {
      "cell_type": "code",
      "execution_count": 4,
      "metadata": {
        "id": "xzvNiamFh2p3"
      },
      "outputs": [],
      "source": [
        "def create_env(env_name, num_envs):\n",
        "  env = gym.vector.make(env_name, num_envs)\n",
        "  env = RecordEpisodeStatistics(env)\n",
        "  env = NormalizeObservation(env)\n",
        "  return env"
      ]
    },
    {
      "attachments": {},
      "cell_type": "markdown",
      "metadata": {
        "id": "A5L81w8HxVn4"
      },
      "source": [
        "#### Create the dataset"
      ]
    },
    {
      "cell_type": "code",
      "execution_count": 13,
      "metadata": {
        "id": "92TmeOeqetcz"
      },
      "outputs": [],
      "source": [
        "class RLDataset(IterableDataset):\n",
        "\n",
        "  def __init__(self, env, policy, steps_per_epoch):\n",
        "    self.env = env\n",
        "    self.policy = policy\n",
        "    self.steps_per_epoch = steps_per_epoch\n",
        "    self.obs = env.reset()\n",
        "\n",
        "  @torch.no_grad()\n",
        "  def __iter__(self):\n",
        "    for step in range(self.steps_per_epoch):\n",
        "      loc, scale = self.policy(self.obs)\n",
        "      action = torch.normal(loc, scale)\n",
        "      action = action.cpu().numpy()\n",
        "      next_obs, reward, done, info = self.env.step(action)\n",
        "      yield self.obs, action, reward, done, next_obs\n",
        "      self.obs = next_obs"
      ]
    },
    {
      "attachments": {},
      "cell_type": "markdown",
      "metadata": {
        "id": "sgXi6A4Z1p75"
      },
      "source": [
        "#### Create the A2C algorithm"
      ]
    },
    {
      "cell_type": "code",
      "execution_count": 21,
      "metadata": {
        "id": "tOmxUJ1vnY5d"
      },
      "outputs": [],
      "source": [
        "class A2C(LightningModule):\n",
        "\n",
        "  def __init__(self, env_name, num_envs=64, samples_per_epoch=8,\n",
        "               batch_size=1, hidden_size=64, policy_lr=1e-4, value_lr=1e-3,\n",
        "               gamma=0.99, entropy_coef=0.01, optim=AdamW):\n",
        "    \n",
        "    super().__init__()\n",
        "\n",
        "    self.env = create_env(env_name, num_envs=num_envs)\n",
        "\n",
        "    obs_size = self.env.single_observation_space.shape[0]\n",
        "    action_dims = self.env.single_action_space.shape[0]\n",
        "\n",
        "    self.policy = GradientPolicy(obs_size, action_dims, hidden_size)\n",
        "    self.value_net = ValueNet(obs_size, hidden_size)\n",
        "    self.target_value_net = copy.deepcopy(self.value_net)\n",
        "\n",
        "    self.dataset = RLDataset(self.env, self.policy, samples_per_epoch)\n",
        "\n",
        "    self.save_hyperparameters()\n",
        "\n",
        "  def configure_optimizers(self):\n",
        "    value_opt = self.hparams.optim(self.value_net.parameters(), lr=self.hparams.value_lr)\n",
        "    policy_opt = self.hparams.optim(self.policy.parameters(), lr=self.hparams.policy_lr)\n",
        "    return value_opt, policy_opt\n",
        "\n",
        "  def train_dataloader(self):\n",
        "    return DataLoader(dataset=self.dataset, batch_size=self.hparams.batch_size)\n",
        "\n",
        "  def training_step(self, batch, batch_idx, optimizer_idx):\n",
        "\n",
        "    samples, envs = batch[0].shape[0:2]\n",
        "    reshape_fn = lambda x: x.view(samples * envs, -1)\n",
        "    obs_b, action_b, reward_b, done_b, next_obs_b = map(reshape_fn, batch)\n",
        "\n",
        "    state_values = self.value_net(obs_b)\n",
        "\n",
        "    with torch.no_grad():\n",
        "      next_state_values = self.target_value_net(next_obs_b)\n",
        "      next_state_values[done_b] = 0.0\n",
        "      target = reward_b + self.hparams.gamma * next_state_values\n",
        "    \n",
        "    if optimizer_idx == 0:\n",
        "      loss = F.smooth_l1_loss(state_values, target)\n",
        "      self.log(\"episode/Value Loss\", loss)\n",
        "      return loss\n",
        "    \n",
        "    elif optimizer_idx == 1:\n",
        "      advantages = (target - state_values).detach()\n",
        "\n",
        "      loc, scale = self.policy(obs_b)\n",
        "      dist = Normal(loc, scale)\n",
        "\n",
        "      log_probs = dist.log_prob(action_b).sum(dim=-1, keepdim=True)\n",
        "      entropy = dist.entropy().sum(dim=-1, keepdim=True)\n",
        "\n",
        "      pg_loss = - log_probs * advantages\n",
        "      loss = (pg_loss - self.hparams.entropy_coef * entropy).mean()\n",
        "\n",
        "      self.log(\"episode/PG Loss\", pg_loss.mean())\n",
        "      self.log(\"episode/Entropy\", entropy.mean())\n",
        "\n",
        "      return loss\n",
        "    \n",
        "  def training_epoch_end(self, training_step_outputs):\n",
        "    if self.current_epoch > 0 and self.current_epoch % 25 == 0:\n",
        "      self.log(\"episode/Return\", self.env.return_queue[-1])\n",
        "    \n",
        "    if self.current_epoch > 0 and self.current_epoch % 10 == 0:\n",
        "      self.target_value_net.load_state_dict(self.value_net.state_dict())"
      ]
    },
    {
      "attachments": {},
      "cell_type": "markdown",
      "metadata": {
        "id": "6mm9P0sX1wAA"
      },
      "source": [
        "#### Purge logs and run the visualization tool (Tensorboard)"
      ]
    },
    {
      "cell_type": "code",
      "execution_count": null,
      "metadata": {
        "id": "MfGQdpn0nY99"
      },
      "outputs": [],
      "source": [
        "!rm -r /content/lightning_logs/\n",
        "!rm -r /content/videos/\n",
        "%load_ext tensorboard\n",
        "%tensorboard --logdir /content/lightning_logs/"
      ]
    },
    {
      "attachments": {},
      "cell_type": "markdown",
      "metadata": {
        "id": "G8GdIwla1wrW"
      },
      "source": [
        "#### Train the policy"
      ]
    },
    {
      "cell_type": "code",
      "execution_count": 24,
      "metadata": {
        "id": "Ig8c_RM8nZLN"
      },
      "outputs": [
        {
          "name": "stderr",
          "output_type": "stream",
          "text": [
            "GPU available: False, used: False\n",
            "TPU available: False, using: 0 TPU cores\n",
            "IPU available: False, using: 0 IPUs\n",
            "HPU available: False, using: 0 HPUs\n",
            "Missing logger folder: /home/weiminn/Documents/reinforcement/11_A2C/lightning_logs\n",
            "\n",
            "  | Name             | Type           | Params\n",
            "----------------------------------------------------\n",
            "0 | policy           | GradientPolicy | 4.5 K \n",
            "1 | value_net        | ValueNet       | 4.5 K \n",
            "2 | target_value_net | ValueNet       | 4.5 K \n",
            "----------------------------------------------------\n",
            "13.5 K    Trainable params\n",
            "0         Non-trainable params\n",
            "13.5 K    Total params\n",
            "0.054     Total estimated model params size (MB)\n"
          ]
        },
        {
          "data": {
            "application/vnd.jupyter.widget-view+json": {
              "model_id": "a53e83e75b6d48438d2a0daa9d12fc70",
              "version_major": 2,
              "version_minor": 0
            },
            "text/plain": [
              "Training: 0it [00:00, ?it/s]"
            ]
          },
          "metadata": {},
          "output_type": "display_data"
        }
      ],
      "source": [
        "algo = A2C(\"Pendulum-v1\")\n",
        "\n",
        "trainer = Trainer(\n",
        "    gpus=num_gpus,\n",
        "    max_epochs=1500,\n",
        "    log_every_n_steps=1\n",
        ")\n",
        "\n",
        "trainer.fit(algo)"
      ]
    },
    {
      "attachments": {},
      "cell_type": "markdown",
      "metadata": {
        "id": "jD3x39w71xWR"
      },
      "source": [
        "#### Check the resulting policy"
      ]
    },
    {
      "cell_type": "code",
      "execution_count": 1,
      "metadata": {
        "id": "YJSqX0Xj4IW2"
      },
      "outputs": [
        {
          "ename": "NameError",
          "evalue": "name 'test_env' is not defined",
          "output_type": "error",
          "traceback": [
            "\u001b[0;31m---------------------------------------------------------------------------\u001b[0m",
            "\u001b[0;31mNameError\u001b[0m                                 Traceback (most recent call last)",
            "Cell \u001b[0;32mIn[1], line 4\u001b[0m\n\u001b[1;32m      1\u001b[0m \u001b[39mimport\u001b[39;00m \u001b[39mwarnings\u001b[39;00m\n\u001b[1;32m      2\u001b[0m warnings\u001b[39m.\u001b[39mfilterwarnings(\u001b[39m'\u001b[39m\u001b[39mignore\u001b[39m\u001b[39m'\u001b[39m)\n\u001b[0;32m----> 4\u001b[0m test_env(\u001b[39m'\u001b[39m\u001b[39mPendulum-v1\u001b[39m\u001b[39m'\u001b[39m, algo\u001b[39m.\u001b[39mpolicy, algo\u001b[39m.\u001b[39menv\u001b[39m.\u001b[39mobs_rms)\u001b[39m#MountainCarContinuous-v0\u001b[39;00m\n\u001b[1;32m      5\u001b[0m \u001b[39m# test_env('MountainCarContinuous-v0', algo.policy, algo.env.obs_rms)\u001b[39;00m\n",
            "\u001b[0;31mNameError\u001b[0m: name 'test_env' is not defined"
          ]
        }
      ],
      "source": [
        "import warnings\n",
        "warnings.filterwarnings('ignore')\n",
        "\n",
        "test_env('Pendulum-v1', algo.policy, algo.env.obs_rms)#MountainCarContinuous-v0\n",
        "# test_env('MountainCarContinuous-v0', algo.policy, algo.env.obs_rms)"
      ]
    },
    {
      "cell_type": "code",
      "execution_count": null,
      "metadata": {
        "id": "0PleQkLR-yNM"
      },
      "outputs": [],
      "source": [
        "display_video(episode=5)"
      ]
    }
  ],
  "metadata": {
    "accelerator": "GPU",
    "colab": {
      "private_outputs": true,
      "provenance": []
    },
    "kernelspec": {
      "display_name": "Python 3",
      "name": "python3"
    },
    "language_info": {
      "codemirror_mode": {
        "name": "ipython",
        "version": 3
      },
      "file_extension": ".py",
      "mimetype": "text/x-python",
      "name": "python",
      "nbconvert_exporter": "python",
      "pygments_lexer": "ipython3",
      "version": "3.8.10"
    }
  },
  "nbformat": 4,
  "nbformat_minor": 0
}
